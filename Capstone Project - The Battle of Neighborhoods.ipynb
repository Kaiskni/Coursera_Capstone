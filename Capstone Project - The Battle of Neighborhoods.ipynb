{
    "cells": [
        {
            "cell_type": "markdown",
            "metadata": {
                "collapsed": true
            },
            "source": "## 1. Introduction/Business Problem"
        },
        {
            "cell_type": "markdown",
            "metadata": {},
            "source": "* Problem: If now there is an international technology company want to set its new bunch in Toronto, where should it set the brunch?\n* Target Audience: The management of technology companies that plan to extend their business to Toronto.\n* Why would they care: \nSetting up a new brunch is not an easy job. There are many factors to take into consideration and some information can not be discovered by only simply looking at the data. Using deep analytics techniques, data science is helpping more and more businesses with their daily problems and it's certain that when they encounter such a problem, they would like to see how data science reveals more insights and helps them make wiser decisions."
        },
        {
            "cell_type": "markdown",
            "metadata": {},
            "source": "## 2. Data"
        },
        {
            "cell_type": "markdown",
            "metadata": {},
            "source": "Data to be used: \n1. geographical data including city map, borough and neighbourhoods category, local venue information (provided by Foursquare);\n2. real estate data such as rent for commercial office;\n3. management's considerations such as the weighting of different factors. For exemple, they may give human resources consideration or economical consideration specific weightings in order to decide which neighbourhood they are going to set up the office in."
        },
        {
            "cell_type": "code",
            "execution_count": null,
            "metadata": {},
            "outputs": [],
            "source": ""
        }
    ],
    "metadata": {
        "kernelspec": {
            "display_name": "Python 3.7",
            "language": "python",
            "name": "python3"
        },
        "language_info": {
            "codemirror_mode": {
                "name": "ipython",
                "version": 3
            },
            "file_extension": ".py",
            "mimetype": "text/x-python",
            "name": "python",
            "nbconvert_exporter": "python",
            "pygments_lexer": "ipython3",
            "version": "3.7.9"
        }
    },
    "nbformat": 4,
    "nbformat_minor": 1
}